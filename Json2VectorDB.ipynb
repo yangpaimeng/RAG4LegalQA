{
 "cells": [
  {
   "cell_type": "code",
   "execution_count": null,
   "id": "34f3d2b8-2484-487a-a9fc-38c1ec63fd53",
   "metadata": {},
   "outputs": [],
   "source": [
    "import json\n",
    "from langchain.docstore.document import Document\n",
    "\n",
    "# 读取 articles.json\n",
    "with open(\"articles.json\", \"r\", encoding=\"utf-8\") as f:\n",
    "    articles = json.load(f)\n",
    "docs = [\n",
    "    Document(page_content=article['page_content'], metadata=article['metadata'])\n",
    "    for article in articles\n",
    "]\n",
    "len(docs)"
   ]
  },
  {
   "cell_type": "code",
   "execution_count": null,
   "id": "c528e517-4a5b-4ea7-9348-b62e01983e63",
   "metadata": {},
   "outputs": [],
   "source": [
    "from sentence_transformers import SentenceTransformer\n",
    "from langchain.embeddings import HuggingFaceEmbeddings\n",
    "from langchain.vectorstores import FAISS\n",
    "EMBED_PATH = \"models/BAAI--bge-small-zh-v1.5\"\n",
    "embedding_model = HuggingFaceEmbeddings(model_name=EMBED_PATH)\n",
    "# 构建向量数据库\n",
    "vectorstore = FAISS.from_documents(docs, embedding_model)\n",
    "# 保存向量数据库\n",
    "vectorstore.save_local(\"faiss_lawdb\")"
   ]
  }
 ],
 "metadata": {
  "kernelspec": {
   "display_name": "Python 3 (ipykernel)",
   "language": "python",
   "name": "python3"
  },
  "language_info": {
   "codemirror_mode": {
    "name": "ipython",
    "version": 3
   },
   "file_extension": ".py",
   "mimetype": "text/x-python",
   "name": "python",
   "nbconvert_exporter": "python",
   "pygments_lexer": "ipython3",
   "version": "3.10.8"
  }
 },
 "nbformat": 4,
 "nbformat_minor": 5
}
